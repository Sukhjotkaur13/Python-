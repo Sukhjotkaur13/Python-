{
 "cells": [
  {
   "cell_type": "code",
   "execution_count": 3,
   "id": "1632f5ad-b44e-49e8-898f-32e7e3da9c6f",
   "metadata": {},
   "outputs": [
    {
     "name": "stdout",
     "output_type": "stream",
     "text": [
      "Welcome in Zaika\n",
      "Our Menu:\n",
      "-----------------\n",
      "chowmin : Rs.70\n",
      "cold drink : Rs.50\n",
      "chicken rice : Rs.130\n",
      "biryani : Rs.140\n",
      "roasted chicken : Rs.250\n",
      "pasta : Rs.70\n",
      "cold coffee : Rs.60\n",
      "chhola rice : Rs.60\n",
      "sandwitch : Rs.20\n"
     ]
    },
    {
     "name": "stdin",
     "output_type": "stream",
     "text": [
      "Enter the name of item you want add in order:  chowmin\n"
     ]
    },
    {
     "name": "stdout",
     "output_type": "stream",
     "text": [
      "chowmin added in your order\n"
     ]
    },
    {
     "name": "stdin",
     "output_type": "stream",
     "text": [
      "Do you want to add another item? pres(yes/no) yes\n",
      "Enter the name of item you want add in order:  burger\n"
     ]
    },
    {
     "name": "stdout",
     "output_type": "stream",
     "text": [
      "burger is not available\n"
     ]
    },
    {
     "name": "stdin",
     "output_type": "stream",
     "text": [
      "Do you want to add another item? pres(yes or no) noodles\n"
     ]
    },
    {
     "name": "stdout",
     "output_type": "stream",
     "text": [
      "Your total bill is : Rs.70\n"
     ]
    }
   ],
   "source": [
    "print(\"Welcome in Zaika\")\n",
    "menu = {\n",
    "    \"chowmin\" : 70,\n",
    "    \"cold drink\": 50,\n",
    "    \"chicken rice\": 130,\n",
    "    \"biryani\": 140,\n",
    "    \"roasted chicken\": 250,\n",
    "    \"pasta\": 70,\n",
    "    \"cold coffee\": 60,\n",
    "    \"chhola rice\": 60,\n",
    "    \"sandwitch\":20\n",
    "}\n",
    "print(\"Our Menu:\")\n",
    "print(\"-----------------\")\n",
    "total_order = 0\n",
    "for item, price in menu.items():\n",
    "    print(f\"{item} : Rs.{price}\")\n",
    "\n",
    "next_order = True\n",
    "while next_order:\n",
    "    order = input(\"Enter the name of item you want add in order: \").lower()\n",
    "    if order in menu:\n",
    "        total_order += menu[order]\n",
    "        print(f\"{order} added in your order\")\n",
    "        another_order = input(\"Do you want to add another item? pres(yes/no)\").lower()\n",
    "        if another_order == 'yes':\n",
    "            next_order = True\n",
    "        else:\n",
    "            next_order = False\n",
    "    else:\n",
    "        print(f\"{order} is not available\")\n",
    "        another_order = input(\"Do you want to add another item? pres(yes or no)\").lower()\n",
    "        if another_order == 'yes':\n",
    "            next_order = True\n",
    "        else:\n",
    "            next_order = False\n",
    "\n",
    "print(f\"Your total bill is : Rs.{total_order}\")"
   ]
  },
  {
   "cell_type": "code",
   "execution_count": 1,
   "id": "dfe06d33-aaee-4dd2-8a9f-30531c35815d",
   "metadata": {},
   "outputs": [
    {
     "name": "stdout",
     "output_type": "stream",
     "text": [
      "Welcome in My Cafe\n",
      "Our Menu:\n",
      "--------------------\n",
      "chowmin:70\n",
      "cold drink:50\n",
      "chicken rice:130\n",
      "biryani:140\n",
      "roasted chicken:250\n",
      "pasta:70\n",
      "cold coffee:60\n",
      "chhola rice:60\n",
      "sandwitch:20\n"
     ]
    },
    {
     "name": "stdin",
     "output_type": "stream",
     "text": [
      "Enter the name of the item you want : chowmin\n"
     ]
    },
    {
     "name": "stdout",
     "output_type": "stream",
     "text": [
      "chowmin added to your order\n"
     ]
    },
    {
     "name": "stdin",
     "output_type": "stream",
     "text": [
      "Do you want to add another item in the order press(yes/no) yes\n",
      "Enter the name of the item you want : burger\n"
     ]
    },
    {
     "name": "stdout",
     "output_type": "stream",
     "text": [
      "burger is not available\n"
     ]
    },
    {
     "name": "stdin",
     "output_type": "stream",
     "text": [
      "do you want to add another item? yes/no yes\n",
      "Enter the name of the item you want : biryani\n"
     ]
    },
    {
     "name": "stdout",
     "output_type": "stream",
     "text": [
      "biryani added to your order\n"
     ]
    },
    {
     "name": "stdin",
     "output_type": "stream",
     "text": [
      "Do you want to add another item in the order press(yes/no) yes\n",
      "Enter the name of the item you want : mutton\n"
     ]
    },
    {
     "name": "stdout",
     "output_type": "stream",
     "text": [
      "mutton is not available\n"
     ]
    },
    {
     "name": "stdin",
     "output_type": "stream",
     "text": [
      "do you want to add another item? yes/no no\n"
     ]
    },
    {
     "name": "stdout",
     "output_type": "stream",
     "text": [
      "Thankyou for visiting! Your total bill us : Rs.210\n"
     ]
    }
   ],
   "source": [
    "print(\"Welcome in My Cafe\")\n",
    "menu = {\n",
    "    \"chowmin\" : 70,\n",
    "    \"cold drink\": 50,\n",
    "    \"chicken rice\": 130,\n",
    "    \"biryani\": 140,\n",
    "    \"roasted chicken\": 250,\n",
    "    \"pasta\": 70,\n",
    "    \"cold coffee\": 60,\n",
    "    \"chhola rice\": 60,\n",
    "    \"sandwitch\":20\n",
    "}\n",
    "print(\"Our Menu:\")\n",
    "print(\"--------------------\")\n",
    "for item,price in menu.items():\n",
    "    print(f\"{item}:{price}\")\n",
    "total=0\n",
    "next=True\n",
    "while next:\n",
    "    order=input(\"Enter the name of the item you want :\").lower()\n",
    "    if order in menu:\n",
    "        total+= menu[order]\n",
    "        print(f\"{order} added to your order\")\n",
    "        another=input(\"Do you want to add another item in the order press(yes/no)\").lower()\n",
    "        if another=='yes':\n",
    "            next=True\n",
    "        else :\n",
    "            next = False\n",
    "    else: \n",
    "        print(f\"{order} is not available\")\n",
    "        another = input(\"do you want to add another item? yes/no\").lower()\n",
    "        if another=='yes':\n",
    "            next=True\n",
    "        else:\n",
    "            next=False\n",
    "print(f\"Thankyou for visiting! Your total bill us : Rs.{total}\")"
   ]
  },
  {
   "cell_type": "code",
   "execution_count": null,
   "id": "4c932e4f-e99a-4448-bda7-a41e3a851ac8",
   "metadata": {},
   "outputs": [],
   "source": []
  }
 ],
 "metadata": {
  "kernelspec": {
   "display_name": "Python 3 (ipykernel)",
   "language": "python",
   "name": "python3"
  },
  "language_info": {
   "codemirror_mode": {
    "name": "ipython",
    "version": 3
   },
   "file_extension": ".py",
   "mimetype": "text/x-python",
   "name": "python",
   "nbconvert_exporter": "python",
   "pygments_lexer": "ipython3",
   "version": "3.12.4"
  }
 },
 "nbformat": 4,
 "nbformat_minor": 5
}
